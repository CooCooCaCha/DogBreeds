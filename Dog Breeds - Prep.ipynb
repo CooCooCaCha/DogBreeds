{
 "cells": [
  {
   "cell_type": "code",
   "execution_count": null,
   "metadata": {},
   "outputs": [],
   "source": [
    "import os\n",
    "import math\n",
    "import pandas as pd\n",
    "from shutil import copyfile\n",
    "from sklearn.utils import shuffle"
   ]
  },
  {
   "cell_type": "code",
   "execution_count": 1,
   "metadata": {},
   "outputs": [],
   "source": []
  },
  {
   "cell_type": "code",
   "execution_count": null,
   "metadata": {},
   "outputs": [],
   "source": [
    "labels = pd.read_csv(path + 'labels.csv')\n",
    "labels = shuffle(labels)\n",
    "\n",
    "breeds = labels['breed'].unique()"
   ]
  },
  {
   "cell_type": "code",
   "execution_count": null,
   "metadata": {},
   "outputs": [],
   "source": [
    "for breed in breeds:\n",
    "    if not os.path.isdir(path + 'train/' + breed):\n",
    "        os.makedirs(path + 'train/' + breed)\n",
    "        \n",
    "    if not os.path.isdir(path + 'valid/' + breed):\n",
    "        os.makedirs(path + 'valid/' + breed)"
   ]
  },
  {
   "cell_type": "code",
   "execution_count": null,
   "metadata": {},
   "outputs": [],
   "source": [
    "for breed in breeds:\n",
    "    ids = labels[labels['breed'] == breed]['id'].values\n",
    "    num = len(ids)\n",
    "    num_train = math.ceil(num * 0.8)\n",
    "    \n",
    "    for i in range(num):\n",
    "        folder = 'train/' if i < num_train else 'valid/'\n",
    "        id = ids[i]\n",
    "        \n",
    "        source = path + 'images/' + id + '.jpg'\n",
    "        dest   = path + folder + breed + '/' + id + '.jpg'\n",
    "        \n",
    "        copyfile(source, dest)"
   ]
  }
 ],
 "metadata": {
  "kernelspec": {
   "display_name": "Python 3",
   "language": "python",
   "name": "python3"
  },
  "language_info": {
   "codemirror_mode": {
    "name": "ipython",
    "version": 3
   },
   "file_extension": ".py",
   "mimetype": "text/x-python",
   "name": "python",
   "nbconvert_exporter": "python",
   "pygments_lexer": "ipython3",
   "version": "3.5.2"
  }
 },
 "nbformat": 4,
 "nbformat_minor": 2
}
